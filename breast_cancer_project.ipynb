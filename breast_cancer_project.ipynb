{
 "cells": [
  {
   "cell_type": "code",
   "execution_count": null,
   "id": "917c76e2",
   "metadata": {},
   "outputs": [],
   "source": [
    "import pandas as pd\n",
    "from sklearn.datasets import load_breast_cancer\n",
    "from sklearn.metrics import accuracy_score\n",
    "from sklearn.model_selection import train_test_split\n",
    "import matplotlib.pyplot as plt\n",
    "import seaborn as sns\n",
    "import numpy as np"
   ]
  },
  {
   "cell_type": "code",
   "execution_count": null,
   "id": "8d68e890",
   "metadata": {},
   "outputs": [],
   "source": [
    "data = load_breast_cancer()"
   ]
  },
  {
   "cell_type": "code",
   "execution_count": null,
   "id": "ff59d323",
   "metadata": {},
   "outputs": [],
   "source": [
    "x = data.data\n",
    "x.shape"
   ]
  },
  {
   "cell_type": "code",
   "execution_count": null,
   "id": "1f8b45fd",
   "metadata": {},
   "outputs": [],
   "source": [
    "y = data.target"
   ]
  },
  {
   "cell_type": "code",
   "execution_count": null,
   "id": "5e92855b",
   "metadata": {},
   "outputs": [],
   "source": [
    "y.shape"
   ]
  },
  {
   "cell_type": "code",
   "execution_count": null,
   "id": "1217ce70",
   "metadata": {},
   "outputs": [],
   "source": [
    "x = pd.DataFrame(x,columns= data.feature_names)\n",
    "x.shape"
   ]
  },
  {
   "cell_type": "code",
   "execution_count": null,
   "id": "754291e8",
   "metadata": {},
   "outputs": [],
   "source": [
    "y = pd.DataFrame(y)\n",
    "y.shape"
   ]
  },
  {
   "cell_type": "code",
   "execution_count": null,
   "id": "b09b877d",
   "metadata": {},
   "outputs": [],
   "source": [
    "a = x['mean radius']\n",
    "b = x['mean texture']\n",
    "c = y[0]\n",
    "sns.scatterplot(a,b,c);"
   ]
  },
  {
   "cell_type": "code",
   "execution_count": null,
   "id": "9fe7994a",
   "metadata": {},
   "outputs": [],
   "source": [
    "x_train,x_test,y_train,y_test = train_test_split(x,y,test_size= 0.2)\n",
    "from sklearn.neighbors import KNeighborsClassifier\n",
    "model = KNeighborsClassifier(n_neighbors=5,metric='euclidean')\n",
    "model.fit(x_train,y_train)\n",
    "prediction = model.predict(x_test)\n",
    "acc = accuracy_score(y_test,prediction)\n",
    "acc"
   ]
  },
  {
   "cell_type": "code",
   "execution_count": null,
   "id": "192a7ec9",
   "metadata": {},
   "outputs": [],
   "source": []
  },
  {
   "cell_type": "code",
   "execution_count": null,
   "id": "29c1c77a",
   "metadata": {},
   "outputs": [],
   "source": [
    "from sklearn.metrics import confusion_matrix\n",
    "cm = confusion_matrix(prediction,y_test)\n",
    "cm"
   ]
  },
  {
   "cell_type": "code",
   "execution_count": null,
   "id": "6ecd5ae3",
   "metadata": {},
   "outputs": [],
   "source": [
    "x.loc[23:34]"
   ]
  },
  {
   "cell_type": "code",
   "execution_count": null,
   "id": "95f8d844",
   "metadata": {},
   "outputs": [],
   "source": [
    "p = model.predict(x.loc[25:34])\n",
    "p"
   ]
  },
  {
   "cell_type": "code",
   "execution_count": null,
   "id": "58490510",
   "metadata": {},
   "outputs": [],
   "source": [
    "n = y.loc[25:34]"
   ]
  },
  {
   "cell_type": "code",
   "execution_count": null,
   "id": "8a84c4d9",
   "metadata": {},
   "outputs": [],
   "source": [
    "ac = accuracy_score(p,n)\n",
    "ac"
   ]
  },
  {
   "cell_type": "code",
   "execution_count": null,
   "id": "aa0f18db",
   "metadata": {},
   "outputs": [],
   "source": []
  }
 ],
 "metadata": {
  "kernelspec": {
   "display_name": "Python 3 (ipykernel)",
   "language": "python",
   "name": "python3"
  },
  "language_info": {
   "codemirror_mode": {
    "name": "ipython",
    "version": 3
   },
   "file_extension": ".py",
   "mimetype": "text/x-python",
   "name": "python",
   "nbconvert_exporter": "python",
   "pygments_lexer": "ipython3",
   "version": "3.9.12"
  }
 },
 "nbformat": 4,
 "nbformat_minor": 5
}
