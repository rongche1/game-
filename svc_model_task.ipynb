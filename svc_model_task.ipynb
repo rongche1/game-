{
 "cells": [
  {
   "cell_type": "code",
   "execution_count": null,
   "id": "f6a627df",
   "metadata": {},
   "outputs": [],
   "source": [
    "import seaborn as sns\n",
    "from sklearn.model_selection import train_test_split\n",
    "import pandas as pd\n",
    "from sklearn.metrics import accuracy_score\n",
    "from sklearn.svm import SVC\n",
    "from sklearn.datasets import make_circles"
   ]
  },
  {
   "cell_type": "code",
   "execution_count": null,
   "id": "675aa445",
   "metadata": {},
   "outputs": [],
   "source": [
    "data = make_circles()\n",
    "x = data[0]"
   ]
  },
  {
   "cell_type": "code",
   "execution_count": null,
   "id": "4fa60a02",
   "metadata": {},
   "outputs": [],
   "source": [
    "y = data[1]\n",
    "y"
   ]
  },
  {
   "cell_type": "code",
   "execution_count": null,
   "id": "6f39e783",
   "metadata": {},
   "outputs": [],
   "source": [
    "x = pd.DataFrame(x)\n",
    "a = x[0]\n",
    "b = x[1]\n",
    "y = pd.DataFrame(y)\n",
    "c = y[0]\n",
    "sns.scatterplot(a,b,c)"
   ]
  },
  {
   "cell_type": "code",
   "execution_count": null,
   "id": "35113e27",
   "metadata": {},
   "outputs": [],
   "source": [
    "x"
   ]
  },
  {
   "cell_type": "code",
   "execution_count": null,
   "id": "6d454579",
   "metadata": {},
   "outputs": [],
   "source": [
    "x_train,x_test,y_train,y_test = train_test_split(x,y,test_size=.2)\n",
    "model = SVC(kernel='rbf')\n",
    "model.fit(x_train,y_train)\n",
    "pre = model.predict(x_test)\n",
    "pre"
   ]
  },
  {
   "cell_type": "code",
   "execution_count": null,
   "id": "4b8ab305",
   "metadata": {},
   "outputs": [],
   "source": [
    "accuracy = accuracy_score(y_test,pre)\n",
    "accuracy"
   ]
  },
  {
   "cell_type": "code",
   "execution_count": null,
   "id": "ab5233b5",
   "metadata": {},
   "outputs": [],
   "source": [
    "p = model.predict(x)\n",
    "acc = accuracy_score(y,p)\n",
    "acc"
   ]
  },
  {
   "cell_type": "code",
   "execution_count": null,
   "id": "36d1fe56",
   "metadata": {},
   "outputs": [],
   "source": [
    "inp = x.loc[23:25]\n",
    "p = model.predict(inp)\n",
    "y.loc[23:25]"
   ]
  },
  {
   "cell_type": "code",
   "execution_count": null,
   "id": "47d3e5c0",
   "metadata": {},
   "outputs": [],
   "source": [
    "p"
   ]
  },
  {
   "cell_type": "markdown",
   "id": "f5f37808",
   "metadata": {},
   "source": [
    "## DONE"
   ]
  },
  {
   "cell_type": "code",
   "execution_count": null,
   "id": "7a02db1c",
   "metadata": {},
   "outputs": [],
   "source": []
  }
 ],
 "metadata": {
  "kernelspec": {
   "display_name": "Python 3 (ipykernel)",
   "language": "python",
   "name": "python3"
  },
  "language_info": {
   "codemirror_mode": {
    "name": "ipython",
    "version": 3
   },
   "file_extension": ".py",
   "mimetype": "text/x-python",
   "name": "python",
   "nbconvert_exporter": "python",
   "pygments_lexer": "ipython3",
   "version": "3.9.12"
  }
 },
 "nbformat": 4,
 "nbformat_minor": 5
}
